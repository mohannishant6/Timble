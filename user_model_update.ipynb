{
 "cells": [
  {
   "cell_type": "code",
   "execution_count": 1,
   "metadata": {},
   "outputs": [],
   "source": [
    "import numpy as np\n",
    "import pandas as pd\n",
    "import json"
   ]
  },
  {
   "cell_type": "code",
   "execution_count": 2,
   "metadata": {},
   "outputs": [],
   "source": [
    "# q_df=pd.read_csv('questionnaire.csv',engine='python')\n",
    "# q_df.dropna(inplace=True)"
   ]
  },
  {
   "cell_type": "code",
   "execution_count": 3,
   "metadata": {},
   "outputs": [],
   "source": [
    "# q_df.drop(columns=['Orig_q']).set_index('qid').T.to_json('questionnaire.json')"
   ]
  },
  {
   "cell_type": "markdown",
   "metadata": {},
   "source": [
    "### get questtionaire "
   ]
  },
  {
   "cell_type": "code",
   "execution_count": 4,
   "metadata": {
    "scrolled": true
   },
   "outputs": [
    {
     "data": {
      "text/html": [
       "<div>\n",
       "<style scoped>\n",
       "    .dataframe tbody tr th:only-of-type {\n",
       "        vertical-align: middle;\n",
       "    }\n",
       "\n",
       "    .dataframe tbody tr th {\n",
       "        vertical-align: top;\n",
       "    }\n",
       "\n",
       "    .dataframe thead th {\n",
       "        text-align: right;\n",
       "    }\n",
       "</style>\n",
       "<table border=\"1\" class=\"dataframe\">\n",
       "  <thead>\n",
       "    <tr style=\"text-align: right;\">\n",
       "      <th></th>\n",
       "      <th>qid</th>\n",
       "      <th>q</th>\n",
       "      <th>a1</th>\n",
       "      <th>a2</th>\n",
       "      <th>positive</th>\n",
       "      <th>type</th>\n",
       "    </tr>\n",
       "  </thead>\n",
       "  <tbody>\n",
       "    <tr>\n",
       "      <th>0</th>\n",
       "      <td>q1</td>\n",
       "      <td>I would</td>\n",
       "      <td>1a</td>\n",
       "      <td>1b</td>\n",
       "      <td>1a</td>\n",
       "      <td>extraversion</td>\n",
       "    </tr>\n",
       "    <tr>\n",
       "      <th>1</th>\n",
       "      <td>q3</td>\n",
       "      <td>My place is</td>\n",
       "      <td>3a</td>\n",
       "      <td>3b</td>\n",
       "      <td>3b</td>\n",
       "      <td>conscientiousness</td>\n",
       "    </tr>\n",
       "    <tr>\n",
       "      <th>2</th>\n",
       "      <td>q4</td>\n",
       "      <td>When I get stressed</td>\n",
       "      <td>4a</td>\n",
       "      <td>4b</td>\n",
       "      <td>4b</td>\n",
       "      <td>neuroticism</td>\n",
       "    </tr>\n",
       "    <tr>\n",
       "      <th>3</th>\n",
       "      <td>q6</td>\n",
       "      <td>If things don't go my way</td>\n",
       "      <td>6a</td>\n",
       "      <td>6b</td>\n",
       "      <td>6a</td>\n",
       "      <td>agreeableness</td>\n",
       "    </tr>\n",
       "    <tr>\n",
       "      <th>4</th>\n",
       "      <td>q7</td>\n",
       "      <td>How I treat people in general</td>\n",
       "      <td>7a</td>\n",
       "      <td>7b</td>\n",
       "      <td>7b</td>\n",
       "      <td>openness</td>\n",
       "    </tr>\n",
       "  </tbody>\n",
       "</table>\n",
       "</div>"
      ],
      "text/plain": [
       "  qid                              q  a1  a2 positive               type\n",
       "0  q1                        I would  1a  1b       1a       extraversion\n",
       "1  q3                    My place is  3a  3b       3b  conscientiousness\n",
       "2  q4            When I get stressed  4a  4b       4b        neuroticism\n",
       "3  q6      If things don't go my way  6a  6b       6a      agreeableness\n",
       "4  q7  How I treat people in general  7a  7b       7b           openness"
      ]
     },
     "execution_count": 4,
     "metadata": {},
     "output_type": "execute_result"
    }
   ],
   "source": [
    "with open('questionnaire.json') as json_file:\n",
    "    q_j = json.load(json_file)\n",
    "\n",
    "q_df=pd.DataFrame(q_j).T.reset_index().dropna()\n",
    "q_df.rename(columns={\"index\":\"qid\"},inplace=True)\n",
    "q_df.head()"
   ]
  },
  {
   "cell_type": "markdown",
   "metadata": {},
   "source": [
    "### get user response (at runtime, obtained from front end) "
   ]
  },
  {
   "cell_type": "code",
   "execution_count": 5,
   "metadata": {},
   "outputs": [],
   "source": [
    "with open('user_response.json') as json_file:\n",
    "    response_data = json.load(json_file)"
   ]
  },
  {
   "cell_type": "code",
   "execution_count": 6,
   "metadata": {},
   "outputs": [
    {
     "data": {
      "text/plain": [
       "[{'userid': '123', 'q1': '1a', 'q3': '3b'}]"
      ]
     },
     "execution_count": 6,
     "metadata": {},
     "output_type": "execute_result"
    }
   ],
   "source": [
    "response_data"
   ]
  },
  {
   "cell_type": "markdown",
   "metadata": {},
   "source": [
    "### get response and decide +1 or -1 for each question"
   ]
  },
  {
   "cell_type": "code",
   "execution_count": 7,
   "metadata": {},
   "outputs": [],
   "source": [
    "def response(user_q):\n",
    "    user_res=dict()\n",
    "    for key in user_q: # to get userid\n",
    "        if key=='userid':\n",
    "            user_res[key]=user_q[key]\n",
    "        try: \n",
    "            meta=list(q_df[q_df.qid==key][['positive','type']].iloc[0,:].values) # to get positive answer and question's trait\n",
    "            if user_q[key]==meta[0]: # +1 if response matches to positive answer\n",
    "                meta[0]=1\n",
    "            else:\n",
    "                meta[0]=-1 # otherwise -1\n",
    "\n",
    "            user_res[key]=meta # make a new entry for each question in the dict\n",
    "        except: # occurs when key not found in question bank eg 'userid'\n",
    "            pass\n",
    "    return user_res"
   ]
  },
  {
   "cell_type": "code",
   "execution_count": 8,
   "metadata": {},
   "outputs": [],
   "source": [
    "responses_graded=[]\n",
    "for user in response_data:\n",
    "    responses_graded.append(response(user))    "
   ]
  },
  {
   "cell_type": "code",
   "execution_count": 9,
   "metadata": {},
   "outputs": [
    {
     "data": {
      "text/plain": [
       "[{'userid': '123', 'q1': [1, 'extraversion'], 'q3': [1, 'conscientiousness']}]"
      ]
     },
     "execution_count": 9,
     "metadata": {},
     "output_type": "execute_result"
    }
   ],
   "source": [
    "responses_graded"
   ]
  },
  {
   "cell_type": "markdown",
   "metadata": {},
   "source": [
    "### read existing user score "
   ]
  },
  {
   "cell_type": "code",
   "execution_count": 10,
   "metadata": {},
   "outputs": [],
   "source": [
    "# user_df=pd.read_csv('user_scores.csv')\n",
    "# user_df.set_index('userid').T.to_json('user_score.json')\n"
   ]
  },
  {
   "cell_type": "code",
   "execution_count": 11,
   "metadata": {},
   "outputs": [
    {
     "data": {
      "text/html": [
       "<div>\n",
       "<style scoped>\n",
       "    .dataframe tbody tr th:only-of-type {\n",
       "        vertical-align: middle;\n",
       "    }\n",
       "\n",
       "    .dataframe tbody tr th {\n",
       "        vertical-align: top;\n",
       "    }\n",
       "\n",
       "    .dataframe thead th {\n",
       "        text-align: right;\n",
       "    }\n",
       "</style>\n",
       "<table border=\"1\" class=\"dataframe\">\n",
       "  <thead>\n",
       "    <tr style=\"text-align: right;\">\n",
       "      <th></th>\n",
       "      <th>userid</th>\n",
       "      <th>n_con</th>\n",
       "      <th>conscientiousness</th>\n",
       "      <th>n_neu</th>\n",
       "      <th>neuroticism</th>\n",
       "      <th>n_agr</th>\n",
       "      <th>agreeableness</th>\n",
       "      <th>n_ope</th>\n",
       "      <th>openness</th>\n",
       "      <th>n_ext</th>\n",
       "      <th>extraversion</th>\n",
       "    </tr>\n",
       "  </thead>\n",
       "  <tbody>\n",
       "    <tr>\n",
       "      <th>0</th>\n",
       "      <td>123</td>\n",
       "      <td>1</td>\n",
       "      <td>3</td>\n",
       "      <td>1</td>\n",
       "      <td>3</td>\n",
       "      <td>1</td>\n",
       "      <td>3</td>\n",
       "      <td>1</td>\n",
       "      <td>3</td>\n",
       "      <td>1</td>\n",
       "      <td>3</td>\n",
       "    </tr>\n",
       "    <tr>\n",
       "      <th>1</th>\n",
       "      <td>234</td>\n",
       "      <td>1</td>\n",
       "      <td>3</td>\n",
       "      <td>1</td>\n",
       "      <td>3</td>\n",
       "      <td>1</td>\n",
       "      <td>3</td>\n",
       "      <td>1</td>\n",
       "      <td>3</td>\n",
       "      <td>1</td>\n",
       "      <td>3</td>\n",
       "    </tr>\n",
       "    <tr>\n",
       "      <th>2</th>\n",
       "      <td>345</td>\n",
       "      <td>1</td>\n",
       "      <td>3</td>\n",
       "      <td>1</td>\n",
       "      <td>3</td>\n",
       "      <td>1</td>\n",
       "      <td>3</td>\n",
       "      <td>1</td>\n",
       "      <td>3</td>\n",
       "      <td>1</td>\n",
       "      <td>3</td>\n",
       "    </tr>\n",
       "    <tr>\n",
       "      <th>3</th>\n",
       "      <td>456</td>\n",
       "      <td>1</td>\n",
       "      <td>3</td>\n",
       "      <td>1</td>\n",
       "      <td>3</td>\n",
       "      <td>1</td>\n",
       "      <td>3</td>\n",
       "      <td>1</td>\n",
       "      <td>3</td>\n",
       "      <td>1</td>\n",
       "      <td>3</td>\n",
       "    </tr>\n",
       "    <tr>\n",
       "      <th>4</th>\n",
       "      <td>567</td>\n",
       "      <td>1</td>\n",
       "      <td>3</td>\n",
       "      <td>1</td>\n",
       "      <td>3</td>\n",
       "      <td>1</td>\n",
       "      <td>3</td>\n",
       "      <td>1</td>\n",
       "      <td>3</td>\n",
       "      <td>1</td>\n",
       "      <td>3</td>\n",
       "    </tr>\n",
       "  </tbody>\n",
       "</table>\n",
       "</div>"
      ],
      "text/plain": [
       "  userid  n_con  conscientiousness  n_neu  neuroticism  n_agr  agreeableness  \\\n",
       "0    123      1                  3      1            3      1              3   \n",
       "1    234      1                  3      1            3      1              3   \n",
       "2    345      1                  3      1            3      1              3   \n",
       "3    456      1                  3      1            3      1              3   \n",
       "4    567      1                  3      1            3      1              3   \n",
       "\n",
       "   n_ope  openness  n_ext  extraversion  \n",
       "0      1         3      1             3  \n",
       "1      1         3      1             3  \n",
       "2      1         3      1             3  \n",
       "3      1         3      1             3  \n",
       "4      1         3      1             3  "
      ]
     },
     "execution_count": 11,
     "metadata": {},
     "output_type": "execute_result"
    }
   ],
   "source": [
    "# user_df.set_index('userid').T.to_json('user_score.json')\n",
    "\n",
    "with open('user_score.json') as json_file:\n",
    "    u_j = json.load(json_file)\n",
    "\n",
    "user_df=pd.DataFrame(u_j).T.reset_index().dropna()\n",
    "user_df.rename(columns={\"index\":\"userid\"},inplace=True)\n",
    "user_df.head()"
   ]
  },
  {
   "cell_type": "markdown",
   "metadata": {},
   "source": [
    "### update user score "
   ]
  },
  {
   "cell_type": "code",
   "execution_count": 12,
   "metadata": {},
   "outputs": [],
   "source": [
    "user_df_updated=user_df.copy()"
   ]
  },
  {
   "cell_type": "code",
   "execution_count": 13,
   "metadata": {},
   "outputs": [],
   "source": [
    "def update_scores(user_res):\n",
    "    for key in user_res:\n",
    "#         userid=0\n",
    "        global user_df_updated\n",
    "        if key=='userid': # to get userid\n",
    "            userid=user_res[key]\n",
    "#             print(userid)\n",
    "            continue\n",
    "        try:\n",
    "            # make default row if user not present already\n",
    "            if userid not in user_df_updated.index.values:\n",
    "                a=pd.Series(name=userid,data={\"n_con\":1,\"conscientiousness\":3,\"n_neu\":1,\n",
    "                                         \"neuroticism\":3,\"n_agr\":1,\"agreeableness\":3,\"n_ope\":1,\"openness\":3,\"n_ext\":1,\"extraversion\":3})\n",
    "                user_df_updated=user_df_updated.append(a)\n",
    "                \n",
    "            response_trait=user_res[key][1] # name of trait for which record being updated\n",
    "            response_trait_val=user_res[key][0] # +1/-1 value of that trait\n",
    "            n_trait_name=\"n_\"+response_trait[0:3] # name of column indicating n responses submitted for this trait \n",
    "            \n",
    "            # update as: score=score+(marks/no of prev response for this trait)\n",
    "            user_df_updated.loc[userid,response_trait]+=(response_trait_val/user_df_updated.loc[userid,n_trait_name])\n",
    "            \n",
    "            if user_df_updated.loc[userid,response_trait]<0: # score shouldn't drop below 0, right!\n",
    "                user_df_updated.loc[userid,response_trait]=0\n",
    "                \n",
    "            user_df_updated.loc[userid,n_trait_name]+=1 # update the n response value for this trait\n",
    "        except Exception as e: print(e)\n"
   ]
  },
  {
   "cell_type": "code",
   "execution_count": 14,
   "metadata": {},
   "outputs": [],
   "source": [
    "user_df_updated.set_index('userid', inplace=True)\n",
    "for user_res in responses_graded:\n",
    "    update_scores(user_res)\n",
    "user_df_updated.reset_index(inplace=True)"
   ]
  },
  {
   "cell_type": "code",
   "execution_count": 15,
   "metadata": {},
   "outputs": [
    {
     "data": {
      "text/html": [
       "<div>\n",
       "<style scoped>\n",
       "    .dataframe tbody tr th:only-of-type {\n",
       "        vertical-align: middle;\n",
       "    }\n",
       "\n",
       "    .dataframe tbody tr th {\n",
       "        vertical-align: top;\n",
       "    }\n",
       "\n",
       "    .dataframe thead th {\n",
       "        text-align: right;\n",
       "    }\n",
       "</style>\n",
       "<table border=\"1\" class=\"dataframe\">\n",
       "  <thead>\n",
       "    <tr style=\"text-align: right;\">\n",
       "      <th></th>\n",
       "      <th>userid</th>\n",
       "      <th>n_con</th>\n",
       "      <th>conscientiousness</th>\n",
       "      <th>n_neu</th>\n",
       "      <th>neuroticism</th>\n",
       "      <th>n_agr</th>\n",
       "      <th>agreeableness</th>\n",
       "      <th>n_ope</th>\n",
       "      <th>openness</th>\n",
       "      <th>n_ext</th>\n",
       "      <th>extraversion</th>\n",
       "    </tr>\n",
       "  </thead>\n",
       "  <tbody>\n",
       "    <tr>\n",
       "      <th>0</th>\n",
       "      <td>123</td>\n",
       "      <td>2</td>\n",
       "      <td>4.0</td>\n",
       "      <td>1</td>\n",
       "      <td>3</td>\n",
       "      <td>1</td>\n",
       "      <td>3</td>\n",
       "      <td>1</td>\n",
       "      <td>3</td>\n",
       "      <td>2</td>\n",
       "      <td>4.0</td>\n",
       "    </tr>\n",
       "    <tr>\n",
       "      <th>1</th>\n",
       "      <td>234</td>\n",
       "      <td>1</td>\n",
       "      <td>3.0</td>\n",
       "      <td>1</td>\n",
       "      <td>3</td>\n",
       "      <td>1</td>\n",
       "      <td>3</td>\n",
       "      <td>1</td>\n",
       "      <td>3</td>\n",
       "      <td>1</td>\n",
       "      <td>3.0</td>\n",
       "    </tr>\n",
       "    <tr>\n",
       "      <th>2</th>\n",
       "      <td>345</td>\n",
       "      <td>1</td>\n",
       "      <td>3.0</td>\n",
       "      <td>1</td>\n",
       "      <td>3</td>\n",
       "      <td>1</td>\n",
       "      <td>3</td>\n",
       "      <td>1</td>\n",
       "      <td>3</td>\n",
       "      <td>1</td>\n",
       "      <td>3.0</td>\n",
       "    </tr>\n",
       "    <tr>\n",
       "      <th>3</th>\n",
       "      <td>456</td>\n",
       "      <td>1</td>\n",
       "      <td>3.0</td>\n",
       "      <td>1</td>\n",
       "      <td>3</td>\n",
       "      <td>1</td>\n",
       "      <td>3</td>\n",
       "      <td>1</td>\n",
       "      <td>3</td>\n",
       "      <td>1</td>\n",
       "      <td>3.0</td>\n",
       "    </tr>\n",
       "    <tr>\n",
       "      <th>4</th>\n",
       "      <td>567</td>\n",
       "      <td>1</td>\n",
       "      <td>3.0</td>\n",
       "      <td>1</td>\n",
       "      <td>3</td>\n",
       "      <td>1</td>\n",
       "      <td>3</td>\n",
       "      <td>1</td>\n",
       "      <td>3</td>\n",
       "      <td>1</td>\n",
       "      <td>3.0</td>\n",
       "    </tr>\n",
       "    <tr>\n",
       "      <th>5</th>\n",
       "      <td>678</td>\n",
       "      <td>1</td>\n",
       "      <td>3.0</td>\n",
       "      <td>1</td>\n",
       "      <td>3</td>\n",
       "      <td>1</td>\n",
       "      <td>3</td>\n",
       "      <td>1</td>\n",
       "      <td>3</td>\n",
       "      <td>1</td>\n",
       "      <td>3.0</td>\n",
       "    </tr>\n",
       "    <tr>\n",
       "      <th>6</th>\n",
       "      <td>789</td>\n",
       "      <td>1</td>\n",
       "      <td>3.0</td>\n",
       "      <td>1</td>\n",
       "      <td>3</td>\n",
       "      <td>1</td>\n",
       "      <td>3</td>\n",
       "      <td>1</td>\n",
       "      <td>3</td>\n",
       "      <td>1</td>\n",
       "      <td>3.0</td>\n",
       "    </tr>\n",
       "    <tr>\n",
       "      <th>7</th>\n",
       "      <td>8910</td>\n",
       "      <td>1</td>\n",
       "      <td>3.0</td>\n",
       "      <td>1</td>\n",
       "      <td>3</td>\n",
       "      <td>1</td>\n",
       "      <td>3</td>\n",
       "      <td>1</td>\n",
       "      <td>3</td>\n",
       "      <td>1</td>\n",
       "      <td>3.0</td>\n",
       "    </tr>\n",
       "  </tbody>\n",
       "</table>\n",
       "</div>"
      ],
      "text/plain": [
       "  userid  n_con  conscientiousness  n_neu  neuroticism  n_agr  agreeableness  \\\n",
       "0    123      2                4.0      1            3      1              3   \n",
       "1    234      1                3.0      1            3      1              3   \n",
       "2    345      1                3.0      1            3      1              3   \n",
       "3    456      1                3.0      1            3      1              3   \n",
       "4    567      1                3.0      1            3      1              3   \n",
       "5    678      1                3.0      1            3      1              3   \n",
       "6    789      1                3.0      1            3      1              3   \n",
       "7   8910      1                3.0      1            3      1              3   \n",
       "\n",
       "   n_ope  openness  n_ext  extraversion  \n",
       "0      1         3      2           4.0  \n",
       "1      1         3      1           3.0  \n",
       "2      1         3      1           3.0  \n",
       "3      1         3      1           3.0  \n",
       "4      1         3      1           3.0  \n",
       "5      1         3      1           3.0  \n",
       "6      1         3      1           3.0  \n",
       "7      1         3      1           3.0  "
      ]
     },
     "execution_count": 15,
     "metadata": {},
     "output_type": "execute_result"
    }
   ],
   "source": [
    "user_df_updated"
   ]
  },
  {
   "cell_type": "code",
   "execution_count": 16,
   "metadata": {},
   "outputs": [],
   "source": [
    "user_df_updated.set_index('userid').T.to_json('user_score.json')"
   ]
  }
 ],
 "metadata": {
  "kernelspec": {
   "display_name": "Python 3",
   "language": "python",
   "name": "python3"
  },
  "language_info": {
   "codemirror_mode": {
    "name": "ipython",
    "version": 3
   },
   "file_extension": ".py",
   "mimetype": "text/x-python",
   "name": "python",
   "nbconvert_exporter": "python",
   "pygments_lexer": "ipython3",
   "version": "3.6.5"
  }
 },
 "nbformat": 4,
 "nbformat_minor": 2
}
